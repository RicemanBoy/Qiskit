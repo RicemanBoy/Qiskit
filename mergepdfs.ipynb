{
 "cells": [
  {
   "cell_type": "code",
   "execution_count": 4,
   "metadata": {},
   "outputs": [],
   "source": [
    "from pypdf import PdfMerger"
   ]
  },
  {
   "cell_type": "code",
   "execution_count": 5,
   "metadata": {},
   "outputs": [
    {
     "name": "stderr",
     "output_type": "stream",
     "text": [
      "C:\\Users\\Dustin\\AppData\\Local\\Temp\\ipykernel_320\\1849051227.py:3: DeprecationWarning: PdfMerger is deprecated and will be removed in pypdf 5.0.0. Use PdfWriter instead.\n",
      "  merger = PdfMerger()\n"
     ]
    }
   ],
   "source": [
    "pdfs = [\"01.0_pp_i_viii_Frontmatter.pdf\",\"02.0_pp_ix_xix_Contents.pdf\",\"03.0_pp_xx_xxiv_PREFACE.pdf\",\"04.0_pp_xxv_xxvi_NOTATION.pdf\",\"05.0_pp_1_48_HISTORICAL_INTRODUCTION.pdf\",\"06.0_pp_49_106_RELATIVISTIC_QUANTUM_MECHANICS.pdf\",\"07.0_pp_107_168_SCATTERING_THEORY.pdf\",\"08.0_pp_169_190_THE_CLUSTER_DECOMPOSITION_PRINCIPLE.pdf\",\"09.0_pp_191_258_QUANTUM_FIELDS_AND_ANTIPARTICLES.pdf\",\"10.0_pp_259_291_THE_FEYNMAN_RULES.pdf\",\"11.0_pp_292_338_THE_CANONICAL_FORMALISM.pdf\",\"12.0_pp_339_375_ELECTRODYNAMICS.pdf\",\"13.0_pp_376_424_PATH-INTEGRAL_METHODS.pdf\",\"14.0_pp_425_471_NON-PERTURBATIVE_METHODS.pdf\",\"15.0_pp_472_498_ONE-LOOP_RADIATIVE_CORRECTIONS_IN_QUANTUM_ELECTRODYNAMICS.pdf\",\"16.0_pp_499_533_GENERAL_RENORMALIZATION_THEORY.pdf\",\"17.0_pp_534_563_INFRARED_EFFECTS.pdf\",\"18.0_pp_564_596_BOUND_STATES_IN_EXTERNAL_FIELDS.pdf\",\"19.0_pp_597_601_AUTHOR_INDEX.pdf\",\"20.0_pp_602_609_SUBJECT_INDEX.pdf\"]\n",
    "\n",
    "merger = PdfMerger()\n",
    "\n",
    "for i in pdfs:\n",
    "    merger.append(i)\n",
    "\n",
    "merger.write(\"weinberg_qft.pdf\")\n",
    "merger.close()"
   ]
  }
 ],
 "metadata": {
  "kernelspec": {
   "display_name": "Python 3",
   "language": "python",
   "name": "python3"
  },
  "language_info": {
   "codemirror_mode": {
    "name": "ipython",
    "version": 3
   },
   "file_extension": ".py",
   "mimetype": "text/x-python",
   "name": "python",
   "nbconvert_exporter": "python",
   "pygments_lexer": "ipython3",
   "version": "3.11.2"
  }
 },
 "nbformat": 4,
 "nbformat_minor": 2
}
