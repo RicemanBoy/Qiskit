{
 "cells": [
  {
   "cell_type": "code",
   "execution_count": 1,
   "metadata": {},
   "outputs": [],
   "source": [
    "from pypdf import PdfMerger"
   ]
  },
  {
   "cell_type": "code",
   "execution_count": 2,
   "metadata": {},
   "outputs": [
    {
     "name": "stderr",
     "output_type": "stream",
     "text": [
      "C:\\Users\\Dustin\\AppData\\Local\\Temp\\ipykernel_11560\\1148531557.py:2: DeprecationWarning: PdfMerger is deprecated and will be removed in pypdf 5.0.0. Use PdfWriter instead.\n",
      "  merger = PdfMerger()\n"
     ]
    }
   ],
   "source": [
    "pdfs = [\"01.0_pp_i_vi_Frontmatter.pdf\",\"02.0_pp_vii_xvi_Contents.pdf\",\"03.0_pp_xvii_xix_PREFACE_TO_VOLUME_II.pdf\",\"04.0_pp_xx_xxii_NOTATION.pdf\",\"05.0_pp_1_62_NON-ABELIAN_GAUGE_THEORIES.pdf\",\"06.0_pp_63_79_EXTERNAL_FIELD_METHODS.pdf\",\"07.0_pp_80_110_RENORMALIZATION_OF_GAUGE_THEORIES.pdf\",\"08.0_pp_111_162_RENORMALIZATION_GROUP_METHODS.pdf\",\"09.0_pp_163_251_SPONTANEOUSLY_BROKEN_GLOBAL_SYMMETRIES.pdf\",\"10.0_pp_252_294_OPERATOR_PRODUCT_EXPANSIONS.pdf\",\"11.0_pp_295_358_SPONTANEOUSLY_BROKEN_GAUGE_SYMMETRIES.pdf\",\"12.0_pp_359_420_ANOMALIES.pdf\",\"13.0_pp_421_477_EXTENDED_FIELD_CONFIGURATIONS.pdf\",\"14.0_pp_478_483_AUTHOR_INDEX.pdf\",\"15.0_pp_484_489_SUBJECT_INDEX.pdf\"]\n",
    "merger = PdfMerger()\n",
    "\n",
    "for i in pdfs:\n",
    "    merger.append(i)\n",
    "\n",
    "merger.write(\"weinberg_qft_2.pdf\")\n",
    "merger.close()"
   ]
  }
 ],
 "metadata": {
  "kernelspec": {
   "display_name": "Python 3",
   "language": "python",
   "name": "python3"
  },
  "language_info": {
   "codemirror_mode": {
    "name": "ipython",
    "version": 3
   },
   "file_extension": ".py",
   "mimetype": "text/x-python",
   "name": "python",
   "nbconvert_exporter": "python",
   "pygments_lexer": "ipython3",
   "version": "3.11.2"
  }
 },
 "nbformat": 4,
 "nbformat_minor": 2
}
