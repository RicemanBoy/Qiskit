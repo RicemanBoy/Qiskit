{
 "cells": [
  {
   "cell_type": "markdown",
   "metadata": {},
   "source": [
    "# Quantum Fourier Transform\n",
    "\n",
    "In this notebook, we'll be implementing the Quantum Fourier Transform from scratch.\n",
    "\n",
    "It's well known for its use in Quantum Phase Estimation (and therefore Shor's algorithm.)\n",
    "\n",
    "Let's get started."
   ]
  },
  {
   "cell_type": "code",
   "execution_count": 1,
   "metadata": {},
   "outputs": [],
   "source": [
    "#%pip install qiskit[visualization] --quiet\n",
    "#%pip install matplotlib --quiet"
   ]
  },
  {
   "cell_type": "markdown",
   "metadata": {},
   "source": [
    "As a quick reminder: the Fourier transform takes a vector and identifies the different periodicities therein.\n",
    "\n",
    "Whereas the classical Discrete Fourier Transform takes a vector in real space $\\vec{v}$ to a vector in frequency space $\\vec{\\tilde{v}}$, the QFT gets a quantum superposition of the $N=2^n$ basis vectors $|k\\rangle$ of $n$ qubits: $\\sum_{k=0} v_k |k\\rangle$ and transforms this superposition such that the coefficients are now what would be the values of the frequency-domain vector $\\sum_{j=0} \\tilde{v}_j |j\\rangle$. For a generic state, the QFT acts as \n",
    "\n",
    "$$ QFT(\\sum_{k=0} v_k |k\\rangle) = \\sum_{j=0} \\tilde{v}_j |j\\rangle$$\n",
    "\n",
    "Therefore, we need to transform each basis state $|j\\rangle$ as:\n",
    "\n",
    "$$ |j\\rangle \\to \\frac{1}{\\sqrt{N}}\\sum_{k=~0}^{N-1} e^{2\\pi i j k/N} |k\\rangle$$\n",
    "\n",
    "## Implementation\n",
    "\n",
    "We can implement this transformation using a straightforward trick: there is an equivalent representation of the above transformation. We need a couple notational tricks firts. We expand the notation of the basis state $|j\\rangle$ as $|j_1 j_2 j_3 ... j_n\\rangle$ where $n$ is the number of qubits, and $j_k \\in \\{0,1\\}$. Then, we define a new notation: $0.j_{\\ell}j_{\\ell+1} ... j_m$ means $j_{\\ell}/2 + j_{\\ell+1}/4 + ... + j_m/2^{m-\\ell+1}$. Finally, we can rewrite the effect of the QFT as \n",
    "\n",
    "\n",
    "$$ |j\\rangle \\to \\frac{1}{\\sqrt{N}}\\sum_{k=~0}^{N-1} e^{2\\pi i j k/N} |k\\rangle = \\frac{1}{\\sqrt{N}}\\left(|0\\rangle + e^{2\\pi i0.j_n}|1\\rangle\\right)\\left(|0\\rangle + e^{2\\pi i0.j_{n-1}j_{n}}|1\\rangle\\right)\\cdots\\left(|0\\rangle + e^{2\\pi i0.j_1j_2...j_n}|1\\rangle\\right)$$\n",
    "\n",
    "(Exercise: prove it. Alternatively, read section 5.1 of the Nielsen-Chuang)\n",
    "\n",
    "Now it's fairly clear how to implement the QFT: we need to apply the correct phases to the $|1\\rangle$ state of each qubit. To this end, we only need two kinds of gates, and one of them, the Hadamard, is already implemented in qiskit. \n",
    "\n",
    "We need a second (parametrized) gate to apply the phases: the controlled-$R_k$ gate (for which $k$ can be picked) applies a phase of $e^{2\\pi i/2^{k}}$ to $|1\\rangle$ (it's also known as the CPhaseGate):\n",
    "\n",
    "$$\\textrm{controlled-}R_k =  \\begin{pmatrix}1 & 0 & 0 & 0 \\\\ 0 & 1 & 0 & 0 \\\\ 0 & 0 & 1 & 0 \\\\ 0 & 0 & 0 & e^{2\\pi i/2^{k}}\\end{pmatrix}$$\n",
    "\n",
    "In the code, $R_k$ takes two parameters: the control and the target qubits, and that tells us which qubit controls the phase and which qubit gets it: $R_k(ctrl,targ)$\n",
    "\n",
    "Of course, this is your job. I've merely written the helpers, but you need to write down the matrix."
   ]
  },
  {
   "cell_type": "code",
   "execution_count": 71,
   "metadata": {},
   "outputs": [],
   "source": [
    "from qiskit.circuit.library import UnitaryGate\n",
    "from qiskit import QuantumCircuit\n",
    "import numpy as np\n",
    "\n",
    "def Rk(k:int)->UnitaryGate:\n",
    "\n",
    "    # EXERCISE: write down the matrix\n",
    "    rk_mat= np.identity(4, dtype=complex)\n",
    "    rk_mat[3][3] = np.exp((2*np.pi*1j)/(2**k))\n",
    "    return UnitaryGate(rk_mat)\n",
    "\n",
    "def apply_controlled_rk(circ:QuantumCircuit,k:int,ctrl:int,targ:int)->None:\n",
    "    rk = Rk(k)\n",
    "    circ.append(rk,[ctrl,targ])         #what does circ.append do???"
   ]
  },
  {
   "cell_type": "code",
   "execution_count": 82,
   "metadata": {},
   "outputs": [],
   "source": [
    "#My Version: I use single qubuti gates, that multiplicate the right phase to |1>\n",
    "\n",
    "def Rk(k:int)->UnitaryGate:\n",
    "\n",
    "    # EXERCISE: write down the matrix\n",
    "    rk_mat= np.identity(2, dtype=complex)\n",
    "    rk_mat[1][1] = np.exp((2*np.pi*1j)/(2**k))\n",
    "    return UnitaryGate(rk_mat)\n",
    "\n",
    "def apply_controlled_rk(circ:QuantumCircuit,k:int)->None:\n",
    "    rk = Rk(k)\n",
    "    circ.append(rk)                     #what does circ.append do??? How do I specify where I wanna put the rk gate?"
   ]
  },
  {
   "cell_type": "markdown",
   "metadata": {},
   "source": [
    "Now, we must build the circuit. \n",
    "\n",
    "There's a few pitfalls to avoid when building the QFT. \n",
    "\n",
    "The first one is that the common definition of the QFT is in fact the inverse of the Fourier transform. Fortunately, the inverse of a unitary is simply the reverse circuit. So, if we want to apply the transform from real space to frequency space, we need to use the _inverse Quantum Fourier Transform_ (iQFT) by simply appending the `circuit.inverse()` function when we're done: it flips the circuit backwards and negates all phases. It's that easy.\n",
    "\n",
    "The second one is due to the right-to-left ordering of bitstrings in qiskit. The decimal notation ($0.j_1j_2...$) we introduced above needs to be applied from the last qubit up to the first, backwards from what we usually see in diagrams. Or, if it's simpler, you can also create the circuit from 0 to $n-1$ (which avoids nasty indexing issues), and finally apply the function `circuit.reverse_bits()` to \"flip\" the circuit upside down.\n",
    "\n",
    "The third and final issue is that the QFT actually flips the result at the end, and it must be disentangled. Which means we need to use `circuit.swap(i,j)` to swap back the qubits, swap $q_0$ with $q_{n-1}$, $q_1$ with $q_{n-2}$, $q_2$ with $q_{n-3}$ and so on until $q_{n/2-1}$ and $q_{n/2+1}$ This is done before we reverse the ops on the circuit.\n",
    "\n",
    "Now that we know the issues ahead, let's describe the actual circuit. \n",
    "\n",
    "Here is how we apply all the correct phases. I will describe the version from $0$ to $n-1$, as the indexing is much easier to understand. You can implement this version straight away and use the `reverse_bits` function, or translate it to the reverse indexing scheme and implement that instead. \n",
    "\n",
    "So. If we start with qubit $q_0$, we want a phase of $0.j_1...j_{n-1}$ on the $|1\\rangle$. This simply means we want to first apply a Hadamard on $q_0$ (to get the superposition), and then $n-2$ controlled-$R_k$ gates with $k=1,..,n-1$, using qubits $q_1,...q_{n-1}$ as controls. Moving to qubit $q_1$, we apply the same scheme, except we apply $n-3$ controlled gates. Beware though, the $k$ still starts at $1$, since we want the phase $k$ to be difference between the target qubit index and the control qubit index, meaning that, for example, $R_k(q_2,q_1)$ has a phase of $k=1$, since $k = 2-1=1$. \n",
    "\n",
    "And so on, until we reach $q_{n-2}$: this case is probably the most insightful. We simply want a phase of $0.j_{n-1}$. We apply a Hadamard, and then $R_1$ ($k=(n-1)-(n-2)=1$). This gives us a phase of $1/2$ (which $0.j_{n-1}$ represents if you recall what the notation means.) It is plain to see that applying $R_1(q_{n_1},q_{n-2})$ indeed gets us $|0\\rangle + e^{-i\\pi/2}$\n",
    "\n",
    "In the end, there is no qubit beyond $q_{n-1}$, so we have no controlled phase to apply: $q_{n-1}$ only gets a Hadamard.\n",
    "\n",
    "Anyway, in the next exercise, you need to create the QFT circuit. I've written the functions to check that it is correct. The rest is up to you."
   ]
  },
  {
   "cell_type": "code",
   "execution_count": 84,
   "metadata": {},
   "outputs": [
    {
     "ename": "CircuitError",
     "evalue": "'The amount of qubit(0)/clbit(0) arguments does not match the gate expectation (1).'",
     "output_type": "error",
     "traceback": [
      "\u001b[1;31m---------------------------------------------------------------------------\u001b[0m",
      "\u001b[1;31mCircuitError\u001b[0m                              Traceback (most recent call last)",
      "Cell \u001b[1;32mIn[84], line 56\u001b[0m\n\u001b[0;32m     54\u001b[0m initial_state \u001b[38;5;241m=\u001b[39m np\u001b[38;5;241m.\u001b[39mexp(\u001b[38;5;241m1\u001b[39mj\u001b[38;5;241m*\u001b[39m\u001b[38;5;241m100\u001b[39m\u001b[38;5;241m*\u001b[39mnp\u001b[38;5;241m.\u001b[39mpi\u001b[38;5;241m*\u001b[39mnp\u001b[38;5;241m.\u001b[39mlinspace(\u001b[38;5;241m0\u001b[39m,\u001b[38;5;241m2\u001b[39m,\u001b[38;5;241m2\u001b[39m\u001b[38;5;241m*\u001b[39m\u001b[38;5;241m*\u001b[39mn_qubits))\n\u001b[0;32m     55\u001b[0m initial_state\u001b[38;5;241m/\u001b[39m\u001b[38;5;241m=\u001b[39mnp\u001b[38;5;241m.\u001b[39mlinalg\u001b[38;5;241m.\u001b[39mnorm(initial_state)\n\u001b[1;32m---> 56\u001b[0m \u001b[43mcheck_results\u001b[49m\u001b[43m(\u001b[49m\u001b[43minitial_state\u001b[49m\u001b[43m,\u001b[49m\u001b[43mn_qubits\u001b[49m\u001b[38;5;241;43m=\u001b[39;49m\u001b[43mn_qubits\u001b[49m\u001b[43m)\u001b[49m\n\u001b[0;32m     59\u001b[0m \u001b[38;5;66;03m# HARMONICS VECTOR + NOISE: frequencies of 3, 10, 20 + random noise\u001b[39;00m\n\u001b[0;32m     60\u001b[0m initial_state \u001b[38;5;241m=\u001b[39m np\u001b[38;5;241m.\u001b[39mexp(\u001b[38;5;241m1\u001b[39mj\u001b[38;5;241m*\u001b[39m\u001b[38;5;241m2\u001b[39m\u001b[38;5;241m*\u001b[39mnp\u001b[38;5;241m.\u001b[39mpi\u001b[38;5;241m*\u001b[39mnp\u001b[38;5;241m.\u001b[39mrandom\u001b[38;5;241m.\u001b[39mrand(\u001b[38;5;241m2\u001b[39m\u001b[38;5;241m*\u001b[39m\u001b[38;5;241m*\u001b[39mn_qubits))\n",
      "Cell \u001b[1;32mIn[84], line 43\u001b[0m, in \u001b[0;36mcheck_results\u001b[1;34m(initial_state, n_qubits)\u001b[0m\n\u001b[0;32m     40\u001b[0m \u001b[38;5;28;01mdef\u001b[39;00m \u001b[38;5;21mcheck_results\u001b[39m(initial_state:np\u001b[38;5;241m.\u001b[39mndarray,n_qubits:\u001b[38;5;28mint\u001b[39m)\u001b[38;5;241m-\u001b[39m\u001b[38;5;241m>\u001b[39m\u001b[38;5;28;01mNone\u001b[39;00m:\n\u001b[0;32m     42\u001b[0m     fft_amplitudes \u001b[38;5;241m=\u001b[39m fft(initial_state,\u001b[38;5;28mlen\u001b[39m(initial_state))\n\u001b[1;32m---> 43\u001b[0m     amplitudes\u001b[38;5;241m=\u001b[39m\u001b[43mget_qft_coefficients\u001b[49m\u001b[43m(\u001b[49m\u001b[43mn_qubits\u001b[49m\u001b[43m,\u001b[49m\u001b[43minitial_state\u001b[49m\u001b[43m)\u001b[49m\n\u001b[0;32m     45\u001b[0m     plt\u001b[38;5;241m.\u001b[39mplot(\u001b[38;5;28mrange\u001b[39m(\u001b[38;5;28mlen\u001b[39m(amplitudes)),np\u001b[38;5;241m.\u001b[39mabs(amplitudes)\u001b[38;5;241m/\u001b[39mnp\u001b[38;5;241m.\u001b[39mmax(np\u001b[38;5;241m.\u001b[39mabs(amplitudes)),\u001b[38;5;124m\"\u001b[39m\u001b[38;5;124mrs:\u001b[39m\u001b[38;5;124m\"\u001b[39m,markerfacecolor\u001b[38;5;241m=\u001b[39m\u001b[38;5;124m'\u001b[39m\u001b[38;5;124mnone\u001b[39m\u001b[38;5;124m'\u001b[39m,label\u001b[38;5;241m=\u001b[39m\u001b[38;5;124m\"\u001b[39m\u001b[38;5;124miQFT (norm)\u001b[39m\u001b[38;5;124m\"\u001b[39m)\n\u001b[0;32m     46\u001b[0m     plt\u001b[38;5;241m.\u001b[39mplot(\u001b[38;5;28mrange\u001b[39m(\u001b[38;5;28mlen\u001b[39m(amplitudes)),np\u001b[38;5;241m.\u001b[39mabs(fft_amplitudes)\u001b[38;5;241m/\u001b[39mnp\u001b[38;5;241m.\u001b[39mmax(np\u001b[38;5;241m.\u001b[39mabs(fft_amplitudes)),\u001b[38;5;124m\"\u001b[39m\u001b[38;5;124mkx:\u001b[39m\u001b[38;5;124m\"\u001b[39m,label\u001b[38;5;241m=\u001b[39m\u001b[38;5;124m\"\u001b[39m\u001b[38;5;124mDFT (norm)\u001b[39m\u001b[38;5;124m\"\u001b[39m)\n",
      "Cell \u001b[1;32mIn[84], line 33\u001b[0m, in \u001b[0;36mget_qft_coefficients\u001b[1;34m(n_qubits, initial_state)\u001b[0m\n\u001b[0;32m     31\u001b[0m circuit \u001b[38;5;241m=\u001b[39m QuantumCircuit(n_qubits)\n\u001b[0;32m     32\u001b[0m circuit\u001b[38;5;241m.\u001b[39mprepare_state(state\u001b[38;5;241m=\u001b[39minitial_state)\n\u001b[1;32m---> 33\u001b[0m qft_circuit \u001b[38;5;241m=\u001b[39m \u001b[43mbuild_qft_circuit\u001b[49m\u001b[43m(\u001b[49m\u001b[43mn_qubits\u001b[49m\u001b[43m)\u001b[49m\n\u001b[0;32m     35\u001b[0m circuit\u001b[38;5;241m.\u001b[39mappend(qft_circuit,qargs\u001b[38;5;241m=\u001b[39m\u001b[38;5;28mrange\u001b[39m(n_qubits))\n\u001b[0;32m     36\u001b[0m statevector \u001b[38;5;241m=\u001b[39m Statevector\u001b[38;5;241m.\u001b[39mfrom_instruction(circuit)\n",
      "Cell \u001b[1;32mIn[84], line 18\u001b[0m, in \u001b[0;36mbuild_qft_circuit\u001b[1;34m(n_qubits)\u001b[0m\n\u001b[0;32m     15\u001b[0m     circuit\u001b[38;5;241m.\u001b[39mh(i)\n\u001b[0;32m     17\u001b[0m     \u001b[38;5;28;01mfor\u001b[39;00m j \u001b[38;5;129;01min\u001b[39;00m \u001b[38;5;28mrange\u001b[39m(n_qubits \u001b[38;5;241m-\u001b[39m i \u001b[38;5;241m-\u001b[39m \u001b[38;5;241m1\u001b[39m):       \u001b[38;5;66;03m#Apply the controlled phase gate\u001b[39;00m\n\u001b[1;32m---> 18\u001b[0m         \u001b[43mapply_controlled_rk\u001b[49m\u001b[43m(\u001b[49m\u001b[43mcircuit\u001b[49m\u001b[43m,\u001b[49m\u001b[43mj\u001b[49m\u001b[38;5;241;43m+\u001b[39;49m\u001b[38;5;241;43m1\u001b[39;49m\u001b[43m)\u001b[49m    \u001b[38;5;66;03m#how does this work? I cant notate where I wanna put the gate...\u001b[39;00m\n\u001b[0;32m     19\u001b[0m         \u001b[38;5;28;01mcontinue\u001b[39;00m\n\u001b[0;32m     21\u001b[0m \u001b[38;5;28;01mfor\u001b[39;00m i \u001b[38;5;129;01min\u001b[39;00m \u001b[38;5;28mrange\u001b[39m(n_qubits):\n",
      "Cell \u001b[1;32mIn[82], line 12\u001b[0m, in \u001b[0;36mapply_controlled_rk\u001b[1;34m(circ, k)\u001b[0m\n\u001b[0;32m     10\u001b[0m \u001b[38;5;28;01mdef\u001b[39;00m \u001b[38;5;21mapply_controlled_rk\u001b[39m(circ:QuantumCircuit,k:\u001b[38;5;28mint\u001b[39m)\u001b[38;5;241m-\u001b[39m\u001b[38;5;241m>\u001b[39m\u001b[38;5;28;01mNone\u001b[39;00m:\n\u001b[0;32m     11\u001b[0m     rk \u001b[38;5;241m=\u001b[39m Rk(k)\n\u001b[1;32m---> 12\u001b[0m     \u001b[43mcirc\u001b[49m\u001b[38;5;241;43m.\u001b[39;49m\u001b[43mappend\u001b[49m\u001b[43m(\u001b[49m\u001b[43mrk\u001b[49m\u001b[43m)\u001b[49m\n",
      "File \u001b[1;32mc:\\Users\\Dustin\\AppData\\Local\\Programs\\Python\\Python311\\Lib\\site-packages\\qiskit\\circuit\\quantumcircuit.py:1276\u001b[0m, in \u001b[0;36mQuantumCircuit.append\u001b[1;34m(self, instruction, qargs, cargs)\u001b[0m\n\u001b[0;32m   1273\u001b[0m instructions \u001b[38;5;241m=\u001b[39m InstructionSet(resource_requester\u001b[38;5;241m=\u001b[39mcircuit_scope\u001b[38;5;241m.\u001b[39mresolve_classical_resource)\n\u001b[0;32m   1274\u001b[0m \u001b[38;5;66;03m# For Operations that are non-Instructions, we use the Instruction's default method\u001b[39;00m\n\u001b[0;32m   1275\u001b[0m broadcast_iter \u001b[38;5;241m=\u001b[39m (\n\u001b[1;32m-> 1276\u001b[0m     \u001b[43moperation\u001b[49m\u001b[38;5;241;43m.\u001b[39;49m\u001b[43mbroadcast_arguments\u001b[49m\u001b[43m(\u001b[49m\u001b[43mexpanded_qargs\u001b[49m\u001b[43m,\u001b[49m\u001b[43m \u001b[49m\u001b[43mexpanded_cargs\u001b[49m\u001b[43m)\u001b[49m\n\u001b[0;32m   1277\u001b[0m     \u001b[38;5;28;01mif\u001b[39;00m \u001b[38;5;28misinstance\u001b[39m(operation, Instruction)\n\u001b[0;32m   1278\u001b[0m     \u001b[38;5;28;01melse\u001b[39;00m Instruction\u001b[38;5;241m.\u001b[39mbroadcast_arguments(operation, expanded_qargs, expanded_cargs)\n\u001b[0;32m   1279\u001b[0m )\n\u001b[0;32m   1280\u001b[0m \u001b[38;5;28;01mfor\u001b[39;00m qarg, carg \u001b[38;5;129;01min\u001b[39;00m broadcast_iter:\n\u001b[0;32m   1281\u001b[0m     \u001b[38;5;28mself\u001b[39m\u001b[38;5;241m.\u001b[39m_check_dups(qarg)\n",
      "File \u001b[1;32mc:\\Users\\Dustin\\AppData\\Local\\Programs\\Python\\Python311\\Lib\\site-packages\\qiskit\\circuit\\gate.py:207\u001b[0m, in \u001b[0;36mGate.broadcast_arguments\u001b[1;34m(self, qargs, cargs)\u001b[0m\n\u001b[0;32m    170\u001b[0m \u001b[38;5;250m\u001b[39m\u001b[38;5;124;03m\"\"\"Validation and handling of the arguments and its relationship.\u001b[39;00m\n\u001b[0;32m    171\u001b[0m \n\u001b[0;32m    172\u001b[0m \u001b[38;5;124;03mFor example, ``cx([q[0],q[1]], q[2])`` means ``cx(q[0], q[2]); cx(q[1], q[2])``. This\u001b[39;00m\n\u001b[1;32m   (...)\u001b[0m\n\u001b[0;32m    204\u001b[0m \u001b[38;5;124;03m        arguments does not match the gate expectation.\u001b[39;00m\n\u001b[0;32m    205\u001b[0m \u001b[38;5;124;03m\"\"\"\u001b[39;00m\n\u001b[0;32m    206\u001b[0m \u001b[38;5;28;01mif\u001b[39;00m \u001b[38;5;28mlen\u001b[39m(qargs) \u001b[38;5;241m!=\u001b[39m \u001b[38;5;28mself\u001b[39m\u001b[38;5;241m.\u001b[39mnum_qubits \u001b[38;5;129;01mor\u001b[39;00m cargs:\n\u001b[1;32m--> 207\u001b[0m     \u001b[38;5;28;01mraise\u001b[39;00m CircuitError(\n\u001b[0;32m    208\u001b[0m         \u001b[38;5;124mf\u001b[39m\u001b[38;5;124m\"\u001b[39m\u001b[38;5;124mThe amount of qubit(\u001b[39m\u001b[38;5;132;01m{\u001b[39;00m\u001b[38;5;28mlen\u001b[39m(qargs)\u001b[38;5;132;01m}\u001b[39;00m\u001b[38;5;124m)/clbit(\u001b[39m\u001b[38;5;132;01m{\u001b[39;00m\u001b[38;5;28mlen\u001b[39m(cargs)\u001b[38;5;132;01m}\u001b[39;00m\u001b[38;5;124m) arguments does\u001b[39m\u001b[38;5;124m\"\u001b[39m\n\u001b[0;32m    209\u001b[0m         \u001b[38;5;124mf\u001b[39m\u001b[38;5;124m\"\u001b[39m\u001b[38;5;124m not match the gate expectation (\u001b[39m\u001b[38;5;132;01m{\u001b[39;00m\u001b[38;5;28mself\u001b[39m\u001b[38;5;241m.\u001b[39mnum_qubits\u001b[38;5;132;01m}\u001b[39;00m\u001b[38;5;124m).\u001b[39m\u001b[38;5;124m\"\u001b[39m\n\u001b[0;32m    210\u001b[0m     )\n\u001b[0;32m    212\u001b[0m \u001b[38;5;28;01mif\u001b[39;00m \u001b[38;5;28many\u001b[39m(\u001b[38;5;129;01mnot\u001b[39;00m qarg \u001b[38;5;28;01mfor\u001b[39;00m qarg \u001b[38;5;129;01min\u001b[39;00m qargs):\n\u001b[0;32m    213\u001b[0m     \u001b[38;5;28;01mraise\u001b[39;00m CircuitError(\u001b[38;5;124m\"\u001b[39m\u001b[38;5;124mOne or more of the arguments are empty\u001b[39m\u001b[38;5;124m\"\u001b[39m)\n",
      "\u001b[1;31mCircuitError\u001b[0m: 'The amount of qubit(0)/clbit(0) arguments does not match the gate expectation (1).'"
     ]
    }
   ],
   "source": [
    "from scipy.fft import fft\n",
    "from qiskit.quantum_info import Statevector\n",
    "import matplotlib.pyplot as plt\n",
    "\n",
    "def build_qft_circuit(n_qubits:int)->QuantumCircuit:\n",
    "    # EXERCISE: write the QFT circuit!\n",
    "    # TIP: use two for loops\n",
    "    # TIP 2: don't forget the swaps!\n",
    "    # TIP 3: depending on how you implement the circuit, you might need to apply a phase of (k+1) rather than k!\n",
    "\n",
    "    circuit = QuantumCircuit(n_qubits)\n",
    "    circuit.reverse_bits()                  #at the beginning or the end?\n",
    "\n",
    "    for i in range(n_qubits):               #Apply Hadamars to all qubits first\n",
    "        circuit.h(i)\n",
    "\n",
    "        for j in range(n_qubits - i - 1):       #Apply the controlled phase gate\n",
    "            apply_controlled_rk(circuit,j+1)    #how does this work? I cant notate where I wanna put the gate...\n",
    "            continue\n",
    "\n",
    "    for i in range(n_qubits):\n",
    "        if i >= n_qubits/2 - 1:\n",
    "            break\n",
    "        circuit.swap(i,n_qubits-1-i)\n",
    "\n",
    "    circuit.inverse()\n",
    "\n",
    "    return circuit\n",
    "\n",
    "def get_qft_coefficients(n_qubits:int,initial_state:np.ndarray)->np.ndarray:\n",
    "    circuit = QuantumCircuit(n_qubits)\n",
    "    circuit.prepare_state(state=initial_state)\n",
    "    qft_circuit = build_qft_circuit(n_qubits)\n",
    "\n",
    "    circuit.append(qft_circuit,qargs=range(n_qubits))\n",
    "    statevector = Statevector.from_instruction(circuit)\n",
    "    return statevector.probabilities()\n",
    "    \n",
    "\n",
    "def check_results(initial_state:np.ndarray,n_qubits:int)->None:\n",
    "    \n",
    "    fft_amplitudes = fft(initial_state,len(initial_state))\n",
    "    amplitudes=get_qft_coefficients(n_qubits,initial_state)\n",
    "    \n",
    "    plt.plot(range(len(amplitudes)),np.abs(amplitudes)/np.max(np.abs(amplitudes)),\"rs:\",markerfacecolor='none',label=\"iQFT (norm)\")\n",
    "    plt.plot(range(len(amplitudes)),np.abs(fft_amplitudes)/np.max(np.abs(fft_amplitudes)),\"kx:\",label=\"DFT (norm)\")\n",
    "    plt.legend()\n",
    "    plt.show()\n",
    "\n",
    "\n",
    "n_qubits=7\n",
    "\n",
    "# SIMPLE VECTOR: frequency of 100\n",
    "initial_state = np.exp(1j*100*np.pi*np.linspace(0,2,2**n_qubits))\n",
    "initial_state/=np.linalg.norm(initial_state)\n",
    "check_results(initial_state,n_qubits=n_qubits)\n",
    "\n",
    "\n",
    "# HARMONICS VECTOR + NOISE: frequencies of 3, 10, 20 + random noise\n",
    "initial_state = np.exp(1j*2*np.pi*np.random.rand(2**n_qubits))\n",
    "initial_state += np.exp(1j*np.pi*3*np.linspace(0,2,2**n_qubits))\n",
    "initial_state += np.exp(1j*np.pi*10*np.linspace(0,2,2**n_qubits))\n",
    "initial_state += np.exp(1j*np.pi*20*np.linspace(0,2,2**n_qubits))\n",
    "initial_state/=np.linalg.norm(initial_state)\n",
    "check_results(initial_state,n_qubits=n_qubits)\n",
    "\n"
   ]
  },
  {
   "cell_type": "markdown",
   "metadata": {},
   "source": [
    "In the end, we get the QFT, with, as expected, a gate depth that is exponentially better than classical complexity. Yet, since we cannot directly measure all the coefficients, it is not so straightforward to build quantum advantage using the QFT. Next week, we'll look at Quantum Phase Estimation which delivers an advantage by using the QFT in a clever way."
   ]
  }
 ],
 "metadata": {
  "kernelspec": {
   "display_name": "venv",
   "language": "python",
   "name": "python3"
  },
  "language_info": {
   "codemirror_mode": {
    "name": "ipython",
    "version": 3
   },
   "file_extension": ".py",
   "mimetype": "text/x-python",
   "name": "python",
   "nbconvert_exporter": "python",
   "pygments_lexer": "ipython3",
   "version": "3.11.2"
  }
 },
 "nbformat": 4,
 "nbformat_minor": 2
}
